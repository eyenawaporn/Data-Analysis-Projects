{
  "nbformat": 4,
  "nbformat_minor": 0,
  "metadata": {
    "colab": {
      "provenance": []
    },
    "kernelspec": {
      "name": "ir",
      "display_name": "R"
    },
    "language_info": {
      "name": "R"
    }
  },
  "cells": [
    {
      "cell_type": "code",
      "source": [
        "game <- function(){\n",
        "    ## greeting user\n",
        "    print(\"Hello, welcome to the game!\")\n",
        "    flush.console()\n",
        "    username <- readline(\"What's your name:\")\n",
        "    flush.console()\n",
        "    print( paste(\"Hi!\", username, \",\", \"Let's battle!\") )\n",
        "\n",
        "\n",
        "    ## possible move\n",
        "    moves <- c(\"rock\", \"scissors\", \"paper\")\n",
        "\n",
        "    ## starting point\n",
        "    user_point <- 0\n",
        "    comp_point <- 0\n",
        "    count <- 0\n",
        "\n",
        "    ## play 3 times/round\n",
        "    while(count < 3){\n",
        "        flush.console()\n",
        "      comp_move <- sample(moves, 1)\n",
        "      user_move <- readline(\"Choose your move:\")\n",
        "      print( paste(\"your move is\", user_move, \"VS.\", \"computer move is\", comp_move) )\n",
        "\n",
        "      ## rule\n",
        "      if(user_move == comp_move) {\n",
        "          print(\"Draw\")\n",
        "      } else if ((user_move == \"rock\" & comp_move == \"paper\") |\n",
        "                (user_move == \"paper\" & comp_move == \"scissors\") |\n",
        "                (user_move == \"scissors\" & comp_move == \"rock\")) {\n",
        "                    comp_point = comp_point + 1\n",
        "                    print(\"You lose\")\n",
        "      } else {\n",
        "        user_point = user_point + 1\n",
        "        print(\"You win!\")\n",
        "      }\n",
        "      count = count + 1\n",
        "      }\n",
        "      score = paste(\"your score:\", user_point, \"VS.\", \"computer score:\", comp_point)\n",
        "      print(score)\n",
        "\n",
        "      ## final score\n",
        "      if(user_point > comp_point) {\n",
        "        print(\"Congratulation! You win\")\n",
        "      } else {\n",
        "        print(\"Sorry you lose, you can try again\")\n",
        "      }\n",
        "    }\n",
        "\n",
        "game()"
      ],
      "metadata": {
        "colab": {
          "base_uri": "https://localhost:8080/"
        },
        "id": "9sPHyCaxvGG2",
        "outputId": "10fc3ef8-fd26-4902-9eca-66d38c71566e"
      },
      "execution_count": null,
      "outputs": [
        {
          "output_type": "stream",
          "name": "stdout",
          "text": [
            "[1] \"Hello, welcome to the game!\"\n",
            "What's your name:eye\n",
            "[1] \"Hi! eye , Let's battle!\"\n",
            "Choose your move:rock\n",
            "[1] \"your move is rock VS. computer move is rock\"\n",
            "[1] \"Draw\"\n",
            "Choose your move:paper\n",
            "[1] \"your move is paper VS. computer move is rock\"\n",
            "[1] \"You win!\"\n",
            "Choose your move:rock\n",
            "[1] \"your move is rock VS. computer move is rock\"\n",
            "[1] \"Draw\"\n",
            "[1] \"your score: 1 VS. computer score: 0\"\n",
            "[1] \"Congratulation! You win\"\n"
          ]
        }
      ]
    }
  ]
}