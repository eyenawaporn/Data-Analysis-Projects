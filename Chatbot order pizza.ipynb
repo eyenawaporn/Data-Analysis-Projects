{
  "nbformat": 4,
  "nbformat_minor": 0,
  "metadata": {
    "colab": {
      "provenance": []
    },
    "kernelspec": {
      "name": "ir",
      "display_name": "R"
    },
    "language_info": {
      "name": "R"
    }
  },
  "cells": [
    {
      "cell_type": "markdown",
      "source": [
        "## **Homework**\n",
        "\n",
        "chatbot() ==> user สั่งพิซซ่าได้\n",
        "- name\n",
        "- order\n",
        "- price"
      ],
      "metadata": {
        "id": "DAfajDg8OE3L"
      }
    },
    {
      "cell_type": "code",
      "source": [
        "chatbot_pizza <- function() {\n",
        "    ## asking customer name\n",
        "    print(\"Hello! welcome to 'Pizza near me'\")\n",
        "    flush.console()\n",
        "    customer_name <- readline(\"What's your name? \")\n",
        "    print( paste(\"Hi\", customer_name) )\n",
        "    print(\"Please see our menu\")\n",
        "\n",
        "    ## menu\n",
        "    menu_list <- data.frame(id = 1:6,\n",
        "                            menu = c(\"Double cheese\", \"Pepperoni\", \"Hawaiian\", \"Seafood\", \"Tom Yum\", \"Meat lover\"),\n",
        "                            price = c(279, 299, 379, 439, 439, 379))\n",
        "        print(menu_list)\n",
        "\n",
        "        total_price <- 0\n",
        "\n",
        "    ## order\n",
        "    flush.console()\n",
        "    anything_else <- \"yes\"\n",
        "    while(anything_else == \"yes\") {\n",
        "       customer_pizza <- as.numeric( readline(\"Choose your pizza (enter 1-6) \") )\n",
        "       amount <- as.numeric( readline(\"amount: \") )\n",
        "       print( paste(\"You ordered\", amount, menu_list[customer_pizza, 2]))\n",
        "       flush.console()\n",
        "\n",
        "       pizza_price <- menu_list[customer_pizza, 3] * amount\n",
        "       total_price <- total_price + pizza_price\n",
        "\n",
        "       anything_else <- readline(\"Anything else? (yes/no) \")\n",
        "    }\n",
        "\n",
        "    print(paste(\"Total price is\", total_price ) )\n",
        "    print(\"Thank you for your order!\")\n",
        "}\n",
        "\n",
        "chatbot_pizza()"
      ],
      "metadata": {
        "colab": {
          "base_uri": "https://localhost:8080/"
        },
        "id": "5Y_Xr2StOuto",
        "outputId": "8ddf3463-0c42-4dbf-a8d5-289ecf858dd1"
      },
      "execution_count": null,
      "outputs": [
        {
          "output_type": "stream",
          "name": "stdout",
          "text": [
            "[1] \"Hello! welcome to 'Pizza near me'\"\n",
            "What's your name? lp\n",
            "[1] \"Hi lp\"\n",
            "[1] \"Please see our menu\"\n",
            "  id          menu price\n",
            "1  1 Double cheese   279\n",
            "2  2     Pepperoni   299\n",
            "3  3      Hawaiian   379\n",
            "4  4       Seafood   439\n",
            "5  5       Tom Yum   439\n",
            "6  6    Meat lover   379\n",
            "Choose your pizza (enter 1-6) 6\n",
            "amount: 1\n",
            "[1] \"You ordered 1 Meat lover\"\n",
            "Anything else? (yes/no) yes\n",
            "Choose your pizza (enter 1-6) 3\n",
            "amount: 1\n",
            "[1] \"You ordered 1 Hawaiian\"\n",
            "Anything else? (yes/no) no\n",
            "[1] \"Total price is 758\"\n",
            "[1] \"Thank you for your order!\"\n"
          ]
        }
      ]
    }
  ]
}