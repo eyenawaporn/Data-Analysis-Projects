{
  "nbformat": 4,
  "nbformat_minor": 0,
  "metadata": {
    "colab": {
      "provenance": []
    },
    "kernelspec": {
      "name": "python3",
      "display_name": "Python 3"
    },
    "language_info": {
      "name": "python"
    }
  },
  "cells": [
    {
      "cell_type": "markdown",
      "source": [
        "# **Rock Paper Scissors Game**\n"
      ],
      "metadata": {
        "id": "yr_zkMi-n851"
      }
    },
    {
      "cell_type": "code",
      "source": [
        "import random\n",
        "def game():\n",
        "    ## greeting user\n",
        "    print(\"Hello, welcome to the game!\")\n",
        "    username = input(\"What's your name?: \")\n",
        "    print(f\"Hi, {username}, let's battle!\")\n",
        "\n",
        "    ## possible move\n",
        "    moves = [\"rock\", \"paper\", \"scissors\"]\n",
        "\n",
        "    ## starting point\n",
        "    user_point = 0\n",
        "    comp_point = 0\n",
        "\n",
        "    ## loop and probabilities\n",
        "    while True:\n",
        "        comp_move = random.choice(moves)\n",
        "        user_move = input(\"Choose your move: rock, paper,scissors, or quit: \")\n",
        "        if (user_move == moves[0]) or (user_move == moves[1]) or (user_move == moves[2]):\n",
        "           print(f\"Your move is {user_move} vs. computer move is {comp_move}\")\n",
        "        elif user_move == \"quit\":\n",
        "           print(\"You quit\")\n",
        "        else:\n",
        "            print(\"Wrong input\")\n",
        "\n",
        "    ## rule\n",
        "        if user_move == comp_move:\n",
        "             print(f\"Draw {user_point} vs. {comp_point}\")\n",
        "\n",
        "        elif (user_move == moves[0] and comp_move == moves[1]) or (user_move == moves[1] and comp_move == moves[2]) or (user_move == moves[2] and comp_move == moves[0]):\n",
        "             comp_point += 1\n",
        "             print(f\"You lose, {user_point} vs. {comp_point}\")\n",
        "        elif (user_move == moves[0] and comp_move == moves[2]) or (user_move == moves[1] and comp_move == moves[0]) or (user_move == moves[2] and comp_move == moves[1]):\n",
        "             user_point += 1\n",
        "             print(f\"You win!, {user_point} vs. {comp_point}\")\n",
        "        elif user_move == \"quit\":\n",
        "             print(\"Game stop!\")\n",
        "             break\n",
        "        else:\n",
        "            print(\"Invalid, please type rock, paper, scissors, or quit.\")\n",
        "\n",
        "    print(f\"Your score: {user_point} vs. computer score: {comp_point}\")\n",
        "\n",
        "    ## final score\n",
        "    if user_point > comp_point:\n",
        "        print(\"Congratulation, you win!\")\n",
        "    elif user_point == comp_point:\n",
        "        print(\"Draw\")\n",
        "    else:\n",
        "        print(\"You lose, let's try again\")\n",
        "\n",
        "game()"
      ],
      "metadata": {
        "colab": {
          "base_uri": "https://localhost:8080/"
        },
        "id": "1XCKvBS9oI29",
        "outputId": "28d7a25f-5f7d-41b3-b313-6bb02728f4dc"
      },
      "execution_count": 3,
      "outputs": [
        {
          "output_type": "stream",
          "name": "stdout",
          "text": [
            "Hello, welcome to the game!\n",
            "What's your name?: eye\n",
            "Hi, eye, let's battle!\n",
            "Choose your move: rock, paper,scissors, or quit: paper\n",
            "Your move is paper vs. computer move is scissors\n",
            "You lose, 0 vs. 1\n",
            "Choose your move: rock, paper,scissors, or quit: rock\n",
            "Your move is rock vs. computer move is rock\n",
            "Draw 0 vs. 1\n",
            "Choose your move: rock, paper,scissors, or quit: paper\n",
            "Your move is paper vs. computer move is rock\n",
            "You win!, 1 vs. 1\n",
            "Choose your move: rock, paper,scissors, or quit: quit\n",
            "You quit\n",
            "Game stop!\n",
            "Your score: 1 vs. computer score: 1\n",
            "Draw\n"
          ]
        }
      ]
    }
  ]
}