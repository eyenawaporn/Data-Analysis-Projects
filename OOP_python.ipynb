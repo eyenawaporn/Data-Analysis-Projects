{
  "nbformat": 4,
  "nbformat_minor": 0,
  "metadata": {
    "colab": {
      "provenance": []
    },
    "kernelspec": {
      "name": "python3",
      "display_name": "Python 3"
    },
    "language_info": {
      "name": "python"
    }
  },
  "cells": [
    {
      "cell_type": "markdown",
      "source": [
        "# **OOP**"
      ],
      "metadata": {
        "id": "NTl_jYaLeP9K"
      }
    },
    {
      "cell_type": "code",
      "source": [
        "class DataAnalyst:\n",
        "    ## 3 attributes: name, company, skill, yearexp\n",
        "    def __init__(self, name, company, skill, yearexp):\n",
        "        self.name = name\n",
        "        self.company = company\n",
        "        self.skill = skill\n",
        "        self.yearexp = yearexp\n",
        "\n",
        "         ## 3 methods\n",
        "    def profile(self):\n",
        "        print(f\"{self.name} works at {self.company}\")\n",
        "\n",
        "    def exp(self):\n",
        "        print(f\"{self.name} has worked at {self.company} for {self.yearexp} year(s)\")\n",
        "\n",
        "    def skillset(self):\n",
        "        print(f\"{self.name} is good at {self.skill}\")\n",
        "\n",
        "    profile_1 = DataAnalyst(\"Elle\", \"Google\", \"R\", \"1\")\n",
        "    profile_2 = DataAnalyst(\"Francis\", \"Apple\", \"Stat\", \"2\")\n",
        "\n",
        "    print(profile_1.name)\n",
        "    profile_1.skillset()\n",
        "    profile_1.profile()\n",
        "    profile_1.exp()\n",
        "\n",
        "    print(profile_2.name)\n",
        "    profile_2.profile()\n",
        "    profile_2.skillset()\n",
        "    profile_2.exp()"
      ],
      "metadata": {
        "colab": {
          "base_uri": "https://localhost:8080/"
        },
        "id": "1jYpHw5ReYCQ",
        "outputId": "d0619f0a-e72a-40e2-cf84-5c2629bf2f90"
      },
      "execution_count": 8,
      "outputs": [
        {
          "output_type": "stream",
          "name": "stdout",
          "text": [
            "Elle\n",
            "Elle is good at R\n",
            "Elle works at Google\n",
            "Elle has worked at Google for 1 year(s)\n",
            "Francis\n",
            "Francis works at Apple\n",
            "Francis is good at Stat\n",
            "Francis has worked at Apple for 2 year(s)\n"
          ]
        }
      ]
    }
  ]
}